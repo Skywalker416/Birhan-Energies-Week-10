{
 "cells": [
  {
   "cell_type": "code",
   "execution_count": null,
   "metadata": {},
   "outputs": [],
   "source": [
    "import pandas as pd\n",
    "import matplotlib.pyplot as plt\n",
    "import seaborn as sns"
   ]
  },
  {
   "cell_type": "code",
   "execution_count": null,
   "metadata": {},
   "outputs": [],
   "source": [
    "# Load data\n",
    "df = pd.read_csv('data/BrentOilPrices_Cleaned.csv', parse_dates=['Date'])"
   ]
  },
  {
   "cell_type": "code",
   "execution_count": null,
   "metadata": {},
   "outputs": [],
   "source": [
    "print(df.describe())"
   ]
  },
  {
   "cell_type": "code",
   "execution_count": null,
   "metadata": {},
   "outputs": [],
   "source": [
    "# Plotting price trends\n",
    "plt.figure(figsize=(12,5))\n",
    "plt.plot(df.index, df['Brent_Oil_Price'], label=\"Brent Oil Price\", color='blue')\n",
    "plt.xlabel(\"Year\")\n",
    "plt.ylabel(\"Price (USD)\")\n",
    "plt.title(\"Brent Oil Price Over Time\")\n",
    "plt.legend()\n",
    "plt.show()"
   ]
  },
  {
   "cell_type": "code",
   "execution_count": null,
   "metadata": {},
   "outputs": [],
   "source": [
    "# Histogram\n",
    "plt.figure(figsize=(8,5))\n",
    "sns.histplot(df['Brent_Oil_Price'], bins=50, kde=True)\n",
    "plt.xlabel(\"Price (USD)\")\n",
    "plt.ylabel(\"Frequency\")\n",
    "plt.title(\"Distribution of Brent Oil Prices\")\n",
    "plt.show()"
   ]
  },
  {
   "cell_type": "code",
   "execution_count": null,
   "metadata": {},
   "outputs": [],
   "source": [
    "# Checking for missing values\n",
    "print(\"Missing Values:\\n\", df.isnull().sum())"
   ]
  },
  {
   "cell_type": "code",
   "execution_count": null,
   "metadata": {},
   "outputs": [],
   "source": [
    "# Rolling Mean & Standard Deviation\n",
    "plt.figure(figsize=(12,6))\n",
    "df['Brent_Oil_Price'].rolling(window=365).mean().plot(label='Rolling Mean')\n",
    "df['Brent_Oil_Price'].rolling(window=365).std().plot(label='Rolling Std', linestyle='dashed')\n",
    "plt.legend()\n",
    "plt.title(\"Rolling Mean & Standard Deviation\")\n",
    "plt.show()"
   ]
  }
 ],
 "metadata": {
  "kernelspec": {
   "display_name": "Python 3",
   "language": "python",
   "name": "python3"
  },
  "language_info": {
   "name": "python",
   "version": "-1.-1.-1"
  }
 },
 "nbformat": 4,
 "nbformat_minor": 2
}
