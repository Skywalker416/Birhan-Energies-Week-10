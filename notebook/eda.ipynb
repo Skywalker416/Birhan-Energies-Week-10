import pandas as pd
import matplotlib.pyplot as plt
import seaborn as sns
from statsmodels.tsa.stattools import adfuller

# Load the cleaned dataset
df = pd.read_csv("data/BrentOilPrices_Cleaned.csv", parse_dates=['Date'])

# Plot the time series
plt.figure(figsize=(12,6))
plt.plot(df['Date'], df['Price'], label="Brent Oil Price", color='blue')
plt.xlabel("Date")
plt.ylabel("Price (USD per barrel)")
plt.title("Brent Oil Prices Over Time")
plt.legend()
plt.show()

# Perform Augmented Dickey-Fuller (ADF) Test
result = adfuller(df['Price'])
print(f"ADF Statistic: {result[0]}")
print(f"p-value: {result[1]}")

if result[1] < 0.05:
    print("The data is stationary.")
else:
    print("The data is non-stationary.")
